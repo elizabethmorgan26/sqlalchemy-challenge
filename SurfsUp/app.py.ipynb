{
 "cells": [
  {
   "cell_type": "code",
   "execution_count": 2,
   "id": "9ebe2dae",
   "metadata": {},
   "outputs": [],
   "source": [
    "# Import dependencies\n",
    "import numpy as np\n",
    "import datetime as dt\n",
    "from pathlib import Path\n",
    "from sqlalchemy.ext.automap import automap_base\n",
    "from sqlalchemy.orm import Session\n",
    "from sqlalchemy import create_engine, func\n",
    "from flask import Flask, jsonify"
   ]
  },
  {
   "cell_type": "code",
   "execution_count": 3,
   "id": "0ae6752c",
   "metadata": {},
   "outputs": [],
   "source": [
    "#################################################\n",
    "# Database Setup\n",
    "#################################################\n",
    "db_path = Path(\"./Resources/hawaii.sqlite\")\n",
    "engine = create_engine(f\"sqlite:///{db_path}\")"
   ]
  },
  {
   "cell_type": "code",
   "execution_count": 4,
   "id": "322b9aa3",
   "metadata": {},
   "outputs": [],
   "source": [
    "# reflect an existing database into a new model\n",
    "Base = automap_base()\n",
    "# reflect the tables\n",
    "Base.prepare(autoload_with=engine)"
   ]
  },
  {
   "cell_type": "code",
   "execution_count": 5,
   "id": "f7296955",
   "metadata": {},
   "outputs": [],
   "source": [
    "# Save references to each table\n",
    "Station = Base.classes.station\n",
    "Measurement = Base.classes.measurement"
   ]
  },
  {
   "cell_type": "code",
   "execution_count": 6,
   "id": "24a9bb6f",
   "metadata": {},
   "outputs": [],
   "source": [
    "# Create our session (link) from Python to the DB\n",
    "session = Session(engine)"
   ]
  },
  {
   "cell_type": "code",
   "execution_count": 7,
   "id": "731d07cb",
   "metadata": {},
   "outputs": [],
   "source": [
    "# Flask Setup\n",
    "#################################################\n",
    "app = Flask(__name__)"
   ]
  },
  {
   "cell_type": "code",
   "execution_count": 8,
   "id": "0c76a14d",
   "metadata": {},
   "outputs": [],
   "source": [
    "# general use setup\n",
    "#################################################\n",
    "# these are used for queries based on the latest year in the dataset\n",
    "oldest_date = session.query(Measurement.date).order_by(Measurement.date.asc()).first()[0]\n",
    "latest_date = session.query(Measurement.date).order_by(Measurement.date.desc()).first()[0]\n",
    "\n",
    "prev_yr = str(int(latest_date[3]) - 1)\n",
    "if prev_yr == -1: prev_yr = 9 # base 10 check\n",
    "one_yr_prior = latest_date[:3] + prev_yr + latest_date[4:]\n",
    "\n",
    "oldest_datetime = dt.date(int(oldest_date[:4]), int(oldest_date[5:7]), int(oldest_date[8:]))\n",
    "latest_datetime = dt.date(int(latest_date[:4]), int(latest_date[5:7]), int(latest_date[8:]))"
   ]
  },
  {
   "cell_type": "code",
   "execution_count": 9,
   "id": "4b4db184",
   "metadata": {},
   "outputs": [],
   "source": [
    "# Flask Routes\n",
    "#################################################\n",
    "@app.route(\"/\")\n",
    "def welcome():\n",
    "    \"\"\"List all available api routes.\"\"\"\n",
    "    return (\n",
    "        f\"Available Routes:<br/>\"\n",
    "        f\"/api/v1.0/precipitation<br/>\"\n",
    "        f\"/api/v1.0/stations<br/>\"\n",
    "        f\"/api/v1.0/tobs<br/>\"\n",
    "        f\"/api/v1.0/2016-01-01<br/>\"\n",
    "        f\"/api/v1.0/2015-06-01/2015-12-31<br/>\"\n",
    "    )\n",
    "\n",
    "@app.route(\"/api/v1.0/precipitation\")\n",
    "def yearly_precipitation():\n",
    "    # Perform a query to retrieve the data and precipitation scores\n",
    "    # order_by allows sorting by date\n",
    "    relevant_dates = session.query(Measurement.date, Measurement.prcp).\\\n",
    "        filter(func.strftime(\"%Y-%m-%d\", Measurement.date) <= latest_date).\\\n",
    "        filter(func.strftime(\"%Y-%m-%d\", Measurement.date) >= one_yr_prior).\\\n",
    "        order_by(Measurement.date.asc()).all()\n",
    "    dates_dict = {}\n",
    "    # transform results into dict with dates as keys and precipitation amts as values\n",
    "    for date in relevant_dates:\n",
    "        dates_dict[date.date] = date.prcp\n",
    "\n",
    "    return jsonify(dates_dict)\n",
    "\n",
    "@app.route(\"/api/v1.0/stations\")\n",
    "def get_stations():\n",
    "    # get list of station \"names\"\n",
    "    stations = session.query(Station.station).distinct().all()\n",
    "    return jsonify([s.station for s in stations])\n",
    "\n",
    "@app.route(\"/api/v1.0/tobs\")\n",
    "def yearly_temps_most_active():\n",
    "    station_cts = session.query(Measurement.station, func.count(Measurement.date)).\\\n",
    "        group_by(Measurement.station).\\\n",
    "        order_by(func.count(Measurement.date).desc()).all()\n",
    "    most_active_station = station_cts[0][0]\n",
    "    tobs_data = session.query(Measurement.tobs).\\\n",
    "        filter(func.strftime(\"%Y-%m-%d\", Measurement.date) <= latest_date).\\\n",
    "        filter(func.strftime(\"%Y-%m-%d\", Measurement.date) >= one_yr_prior).\\\n",
    "        filter(Measurement.station == most_active_station).\\\n",
    "        order_by(Measurement.date.asc()).all()\n",
    "    return jsonify([t.tobs for t in tobs_data])"
   ]
  },
  {
   "cell_type": "code",
   "execution_count": null,
   "id": "9add36a2",
   "metadata": {},
   "outputs": [],
   "source": [
    "# for the routes below, we assume dates passed to start/end are formatted as:\n",
    "# YYYY-MM-DD, eight characters that are all numbers and represent a date\n",
    "\n",
    "@app.route(\"/api/v1.0/<start>\")\n",
    "def x(start):\n",
    "    start_dt = dt.date(int(start[:4]), int(start[5:7]), int(start[8:]))\n",
    "\n",
    "    if start_dt < oldest_datetime or start_dt > latest_datetime:\n",
    "        error_msg = \"ERROR: start date out of dataset date bounds\"\n",
    "        print(error_msg)\n",
    "        return jsonify(error_msg)\n",
    "\n",
    "    tobs_data = session.query(Measurement.tobs).\\\n",
    "        filter(func.strftime(\"%Y-%m-%d\", Measurement.date) >= start_dt).\\\n",
    "        order_by(Measurement.date.asc()).all()\n",
    "    tobs_dict = {\n",
    "        \"TMIN\": np.min(tobs_data),\n",
    "        \"TMAX\": np.max(tobs_data),\n",
    "        \"TAVG\": np.average(tobs_data)\n",
    "    }\n",
    "    return jsonify(tobs_dict)\n",
    "\n",
    "@app.route(\"/api/v1.0/<start>/<end>\")\n",
    "def y(start, end):\n",
    "    start_dt = dt.date(start[:4], start[5:7], start[:8])\n",
    "    end_dt = dt.date(end[:4], end[5:7], end[:8])\n",
    "\n",
    "    if end_dt < start_dt:\n",
    "        error_msg = \"ERROR: end date before start\"\n",
    "        print(error_msg)\n",
    "        return jsonify(error_msg)\n",
    "    if start_dt < oldest_datetime or start_dt > latest_datetime:\n",
    "        error_msg = \"ERROR: start date out of dataset date bounds\"\n",
    "        print(error_msg)\n",
    "        return jsonify(error_msg)\n",
    "    if end_dt < oldest_datetime or end_dt > latest_datetime:\n",
    "        error_msg = \"ERROR: end date out of dataset date bounds\"\n",
    "        print(error_msg)\n",
    "        return jsonify(error_msg)\n",
    "\n",
    "    tobs_data = session.query(Measurement.tobs).\\\n",
    "        filter(func.strftime(\"%Y-%m-%d\", Measurement.date) <= end_dt).\\\n",
    "        filter(func.strftime(\"%Y-%m-%d\", Measurement.date) >= start_dt).\\\n",
    "        order_by(Measurement.date.asc()).all()\n",
    "    tobs_dict = {\n",
    "        \"TMIN\": np.min(tobs_data),\n",
    "        \"TMAX\": np.max(tobs_data),\n",
    "        \"TAVG\": np.average(tobs_data)\n",
    "    }\n",
    "    return jsonify(tobs_dict)\n",
    "\n",
    "if __name__ == \"__main__\":\n",
    "    app.run(debug=True"
   ]
  }
 ],
 "metadata": {
  "kernelspec": {
   "display_name": "Python 3 (ipykernel)",
   "language": "python",
   "name": "python3"
  },
  "language_info": {
   "codemirror_mode": {
    "name": "ipython",
    "version": 3
   },
   "file_extension": ".py",
   "mimetype": "text/x-python",
   "name": "python",
   "nbconvert_exporter": "python",
   "pygments_lexer": "ipython3",
   "version": "3.11.5"
  }
 },
 "nbformat": 4,
 "nbformat_minor": 5
}
